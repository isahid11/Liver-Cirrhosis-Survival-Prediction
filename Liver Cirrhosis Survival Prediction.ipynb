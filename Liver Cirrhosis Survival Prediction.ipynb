{
 "cells": [
  {
   "cell_type": "markdown",
   "id": "505d8412-e899-4d74-b4e4-f6e8eaea0a23",
   "metadata": {},
   "source": [
    "# SIG720 Task 4C #"
   ]
  },
  {
   "cell_type": "markdown",
   "id": "9d2ee0fb-72d4-4e64-8162-c581a76cd726",
   "metadata": {},
   "source": [
    "# 1. Load and explore the dataset. "
   ]
  },
  {
   "cell_type": "code",
   "execution_count": 3,
   "id": "50c05a65-7ca0-490b-8a87-004ad8742286",
   "metadata": {},
   "outputs": [],
   "source": [
    "import pandas as pd\n",
    "import warnings\n",
    "warnings.filterwarnings(\"ignore\")"
   ]
  },
  {
   "cell_type": "code",
   "execution_count": 4,
   "id": "56c203fb-ff6a-4538-85c3-2dbadac6b2c3",
   "metadata": {},
   "outputs": [],
   "source": [
    "df = pd.read_csv('cirrhosis.csv')"
   ]
  },
  {
   "cell_type": "code",
   "execution_count": 5,
   "id": "e571e1bb-3afb-4ce3-98ae-cb6588664c27",
   "metadata": {},
   "outputs": [
    {
     "name": "stdout",
     "output_type": "stream",
     "text": [
      "Dataset shape: (418, 20)\n"
     ]
    }
   ],
   "source": [
    "# Check shape & columns\n",
    "\n",
    "print(\"Dataset shape:\", df.shape)"
   ]
  },
  {
   "cell_type": "code",
   "execution_count": 6,
   "id": "545738dd-1ed7-4789-a547-674f804ba7cb",
   "metadata": {},
   "outputs": [
    {
     "data": {
      "text/plain": [
       "Index(['ID', 'N_Days', 'Status', 'Drug', 'Age', 'Sex', 'Ascites',\n",
       "       'Hepatomegaly', 'Spiders', 'Edema', 'Bilirubin', 'Cholesterol',\n",
       "       'Albumin', 'Copper', 'Alk_Phos', 'SGOT', 'Tryglicerides', 'Platelets',\n",
       "       'Prothrombin', 'Stage'],\n",
       "      dtype='object')"
      ]
     },
     "execution_count": 6,
     "metadata": {},
     "output_type": "execute_result"
    }
   ],
   "source": [
    "df.columns"
   ]
  },
  {
   "cell_type": "code",
   "execution_count": 7,
   "id": "e54dd664-0cd3-4380-afee-93b94303ff28",
   "metadata": {},
   "outputs": [
    {
     "data": {
      "text/html": [
       "<div>\n",
       "<style scoped>\n",
       "    .dataframe tbody tr th:only-of-type {\n",
       "        vertical-align: middle;\n",
       "    }\n",
       "\n",
       "    .dataframe tbody tr th {\n",
       "        vertical-align: top;\n",
       "    }\n",
       "\n",
       "    .dataframe thead th {\n",
       "        text-align: right;\n",
       "    }\n",
       "</style>\n",
       "<table border=\"1\" class=\"dataframe\">\n",
       "  <thead>\n",
       "    <tr style=\"text-align: right;\">\n",
       "      <th></th>\n",
       "      <th>ID</th>\n",
       "      <th>N_Days</th>\n",
       "      <th>Status</th>\n",
       "      <th>Drug</th>\n",
       "      <th>Age</th>\n",
       "      <th>Sex</th>\n",
       "      <th>Ascites</th>\n",
       "      <th>Hepatomegaly</th>\n",
       "      <th>Spiders</th>\n",
       "      <th>Edema</th>\n",
       "      <th>Bilirubin</th>\n",
       "      <th>Cholesterol</th>\n",
       "      <th>Albumin</th>\n",
       "      <th>Copper</th>\n",
       "      <th>Alk_Phos</th>\n",
       "      <th>SGOT</th>\n",
       "      <th>Tryglicerides</th>\n",
       "      <th>Platelets</th>\n",
       "      <th>Prothrombin</th>\n",
       "      <th>Stage</th>\n",
       "    </tr>\n",
       "  </thead>\n",
       "  <tbody>\n",
       "    <tr>\n",
       "      <th>0</th>\n",
       "      <td>1</td>\n",
       "      <td>400</td>\n",
       "      <td>D</td>\n",
       "      <td>D-penicillamine</td>\n",
       "      <td>21464</td>\n",
       "      <td>F</td>\n",
       "      <td>Y</td>\n",
       "      <td>Y</td>\n",
       "      <td>Y</td>\n",
       "      <td>Y</td>\n",
       "      <td>14.5</td>\n",
       "      <td>261.0</td>\n",
       "      <td>2.60</td>\n",
       "      <td>156.0</td>\n",
       "      <td>1718.0</td>\n",
       "      <td>137.95</td>\n",
       "      <td>172.0</td>\n",
       "      <td>190.0</td>\n",
       "      <td>12.2</td>\n",
       "      <td>4.0</td>\n",
       "    </tr>\n",
       "    <tr>\n",
       "      <th>1</th>\n",
       "      <td>2</td>\n",
       "      <td>4500</td>\n",
       "      <td>C</td>\n",
       "      <td>D-penicillamine</td>\n",
       "      <td>20617</td>\n",
       "      <td>F</td>\n",
       "      <td>N</td>\n",
       "      <td>Y</td>\n",
       "      <td>Y</td>\n",
       "      <td>N</td>\n",
       "      <td>1.1</td>\n",
       "      <td>302.0</td>\n",
       "      <td>4.14</td>\n",
       "      <td>54.0</td>\n",
       "      <td>7394.8</td>\n",
       "      <td>113.52</td>\n",
       "      <td>88.0</td>\n",
       "      <td>221.0</td>\n",
       "      <td>10.6</td>\n",
       "      <td>3.0</td>\n",
       "    </tr>\n",
       "    <tr>\n",
       "      <th>2</th>\n",
       "      <td>3</td>\n",
       "      <td>1012</td>\n",
       "      <td>D</td>\n",
       "      <td>D-penicillamine</td>\n",
       "      <td>25594</td>\n",
       "      <td>M</td>\n",
       "      <td>N</td>\n",
       "      <td>N</td>\n",
       "      <td>N</td>\n",
       "      <td>S</td>\n",
       "      <td>1.4</td>\n",
       "      <td>176.0</td>\n",
       "      <td>3.48</td>\n",
       "      <td>210.0</td>\n",
       "      <td>516.0</td>\n",
       "      <td>96.10</td>\n",
       "      <td>55.0</td>\n",
       "      <td>151.0</td>\n",
       "      <td>12.0</td>\n",
       "      <td>4.0</td>\n",
       "    </tr>\n",
       "    <tr>\n",
       "      <th>3</th>\n",
       "      <td>4</td>\n",
       "      <td>1925</td>\n",
       "      <td>D</td>\n",
       "      <td>D-penicillamine</td>\n",
       "      <td>19994</td>\n",
       "      <td>F</td>\n",
       "      <td>N</td>\n",
       "      <td>Y</td>\n",
       "      <td>Y</td>\n",
       "      <td>S</td>\n",
       "      <td>1.8</td>\n",
       "      <td>244.0</td>\n",
       "      <td>2.54</td>\n",
       "      <td>64.0</td>\n",
       "      <td>6121.8</td>\n",
       "      <td>60.63</td>\n",
       "      <td>92.0</td>\n",
       "      <td>183.0</td>\n",
       "      <td>10.3</td>\n",
       "      <td>4.0</td>\n",
       "    </tr>\n",
       "    <tr>\n",
       "      <th>4</th>\n",
       "      <td>5</td>\n",
       "      <td>1504</td>\n",
       "      <td>CL</td>\n",
       "      <td>Placebo</td>\n",
       "      <td>13918</td>\n",
       "      <td>F</td>\n",
       "      <td>N</td>\n",
       "      <td>Y</td>\n",
       "      <td>Y</td>\n",
       "      <td>N</td>\n",
       "      <td>3.4</td>\n",
       "      <td>279.0</td>\n",
       "      <td>3.53</td>\n",
       "      <td>143.0</td>\n",
       "      <td>671.0</td>\n",
       "      <td>113.15</td>\n",
       "      <td>72.0</td>\n",
       "      <td>136.0</td>\n",
       "      <td>10.9</td>\n",
       "      <td>3.0</td>\n",
       "    </tr>\n",
       "  </tbody>\n",
       "</table>\n",
       "</div>"
      ],
      "text/plain": [
       "   ID  N_Days Status             Drug    Age Sex Ascites Hepatomegaly Spiders  \\\n",
       "0   1     400      D  D-penicillamine  21464   F       Y            Y       Y   \n",
       "1   2    4500      C  D-penicillamine  20617   F       N            Y       Y   \n",
       "2   3    1012      D  D-penicillamine  25594   M       N            N       N   \n",
       "3   4    1925      D  D-penicillamine  19994   F       N            Y       Y   \n",
       "4   5    1504     CL          Placebo  13918   F       N            Y       Y   \n",
       "\n",
       "  Edema  Bilirubin  Cholesterol  Albumin  Copper  Alk_Phos    SGOT  \\\n",
       "0     Y       14.5        261.0     2.60   156.0    1718.0  137.95   \n",
       "1     N        1.1        302.0     4.14    54.0    7394.8  113.52   \n",
       "2     S        1.4        176.0     3.48   210.0     516.0   96.10   \n",
       "3     S        1.8        244.0     2.54    64.0    6121.8   60.63   \n",
       "4     N        3.4        279.0     3.53   143.0     671.0  113.15   \n",
       "\n",
       "   Tryglicerides  Platelets  Prothrombin  Stage  \n",
       "0          172.0      190.0         12.2    4.0  \n",
       "1           88.0      221.0         10.6    3.0  \n",
       "2           55.0      151.0         12.0    4.0  \n",
       "3           92.0      183.0         10.3    4.0  \n",
       "4           72.0      136.0         10.9    3.0  "
      ]
     },
     "execution_count": 7,
     "metadata": {},
     "output_type": "execute_result"
    }
   ],
   "source": [
    "# Preview data\n",
    "\n",
    "df.head()"
   ]
  },
  {
   "cell_type": "code",
   "execution_count": 8,
   "id": "90b67c8c-6484-46cd-8565-f9c5a99a21c7",
   "metadata": {},
   "outputs": [
    {
     "data": {
      "text/plain": [
       "ID                 0\n",
       "N_Days             0\n",
       "Status             0\n",
       "Drug             106\n",
       "Age                0\n",
       "Sex                0\n",
       "Ascites          106\n",
       "Hepatomegaly     106\n",
       "Spiders          106\n",
       "Edema              0\n",
       "Bilirubin          0\n",
       "Cholesterol      134\n",
       "Albumin            0\n",
       "Copper           108\n",
       "Alk_Phos         106\n",
       "SGOT             106\n",
       "Tryglicerides    136\n",
       "Platelets         11\n",
       "Prothrombin        2\n",
       "Stage              6\n",
       "dtype: int64"
      ]
     },
     "execution_count": 8,
     "metadata": {},
     "output_type": "execute_result"
    }
   ],
   "source": [
    "# Check missing values\n",
    "\n",
    "df.isnull().sum()"
   ]
  },
  {
   "cell_type": "code",
   "execution_count": 9,
   "id": "28b2f561-6686-4361-aa1c-edb462480bba",
   "metadata": {},
   "outputs": [
    {
     "data": {
      "text/html": [
       "<div>\n",
       "<style scoped>\n",
       "    .dataframe tbody tr th:only-of-type {\n",
       "        vertical-align: middle;\n",
       "    }\n",
       "\n",
       "    .dataframe tbody tr th {\n",
       "        vertical-align: top;\n",
       "    }\n",
       "\n",
       "    .dataframe thead th {\n",
       "        text-align: right;\n",
       "    }\n",
       "</style>\n",
       "<table border=\"1\" class=\"dataframe\">\n",
       "  <thead>\n",
       "    <tr style=\"text-align: right;\">\n",
       "      <th></th>\n",
       "      <th>ID</th>\n",
       "      <th>N_Days</th>\n",
       "      <th>Age</th>\n",
       "      <th>Bilirubin</th>\n",
       "      <th>Cholesterol</th>\n",
       "      <th>Albumin</th>\n",
       "      <th>Copper</th>\n",
       "      <th>Alk_Phos</th>\n",
       "      <th>SGOT</th>\n",
       "      <th>Tryglicerides</th>\n",
       "      <th>Platelets</th>\n",
       "      <th>Prothrombin</th>\n",
       "      <th>Stage</th>\n",
       "    </tr>\n",
       "  </thead>\n",
       "  <tbody>\n",
       "    <tr>\n",
       "      <th>count</th>\n",
       "      <td>418.000000</td>\n",
       "      <td>418.000000</td>\n",
       "      <td>418.000000</td>\n",
       "      <td>418.000000</td>\n",
       "      <td>284.000000</td>\n",
       "      <td>418.000000</td>\n",
       "      <td>310.000000</td>\n",
       "      <td>312.000000</td>\n",
       "      <td>312.000000</td>\n",
       "      <td>282.000000</td>\n",
       "      <td>407.000000</td>\n",
       "      <td>416.000000</td>\n",
       "      <td>412.000000</td>\n",
       "    </tr>\n",
       "    <tr>\n",
       "      <th>mean</th>\n",
       "      <td>209.500000</td>\n",
       "      <td>1917.782297</td>\n",
       "      <td>18533.351675</td>\n",
       "      <td>3.220813</td>\n",
       "      <td>369.510563</td>\n",
       "      <td>3.497440</td>\n",
       "      <td>97.648387</td>\n",
       "      <td>1982.655769</td>\n",
       "      <td>122.556346</td>\n",
       "      <td>124.702128</td>\n",
       "      <td>257.024570</td>\n",
       "      <td>10.731731</td>\n",
       "      <td>3.024272</td>\n",
       "    </tr>\n",
       "    <tr>\n",
       "      <th>std</th>\n",
       "      <td>120.810458</td>\n",
       "      <td>1104.672992</td>\n",
       "      <td>3815.845055</td>\n",
       "      <td>4.407506</td>\n",
       "      <td>231.944545</td>\n",
       "      <td>0.424972</td>\n",
       "      <td>85.613920</td>\n",
       "      <td>2140.388824</td>\n",
       "      <td>56.699525</td>\n",
       "      <td>65.148639</td>\n",
       "      <td>98.325585</td>\n",
       "      <td>1.022000</td>\n",
       "      <td>0.882042</td>\n",
       "    </tr>\n",
       "    <tr>\n",
       "      <th>min</th>\n",
       "      <td>1.000000</td>\n",
       "      <td>41.000000</td>\n",
       "      <td>9598.000000</td>\n",
       "      <td>0.300000</td>\n",
       "      <td>120.000000</td>\n",
       "      <td>1.960000</td>\n",
       "      <td>4.000000</td>\n",
       "      <td>289.000000</td>\n",
       "      <td>26.350000</td>\n",
       "      <td>33.000000</td>\n",
       "      <td>62.000000</td>\n",
       "      <td>9.000000</td>\n",
       "      <td>1.000000</td>\n",
       "    </tr>\n",
       "    <tr>\n",
       "      <th>25%</th>\n",
       "      <td>105.250000</td>\n",
       "      <td>1092.750000</td>\n",
       "      <td>15644.500000</td>\n",
       "      <td>0.800000</td>\n",
       "      <td>249.500000</td>\n",
       "      <td>3.242500</td>\n",
       "      <td>41.250000</td>\n",
       "      <td>871.500000</td>\n",
       "      <td>80.600000</td>\n",
       "      <td>84.250000</td>\n",
       "      <td>188.500000</td>\n",
       "      <td>10.000000</td>\n",
       "      <td>2.000000</td>\n",
       "    </tr>\n",
       "    <tr>\n",
       "      <th>50%</th>\n",
       "      <td>209.500000</td>\n",
       "      <td>1730.000000</td>\n",
       "      <td>18628.000000</td>\n",
       "      <td>1.400000</td>\n",
       "      <td>309.500000</td>\n",
       "      <td>3.530000</td>\n",
       "      <td>73.000000</td>\n",
       "      <td>1259.000000</td>\n",
       "      <td>114.700000</td>\n",
       "      <td>108.000000</td>\n",
       "      <td>251.000000</td>\n",
       "      <td>10.600000</td>\n",
       "      <td>3.000000</td>\n",
       "    </tr>\n",
       "    <tr>\n",
       "      <th>75%</th>\n",
       "      <td>313.750000</td>\n",
       "      <td>2613.500000</td>\n",
       "      <td>21272.500000</td>\n",
       "      <td>3.400000</td>\n",
       "      <td>400.000000</td>\n",
       "      <td>3.770000</td>\n",
       "      <td>123.000000</td>\n",
       "      <td>1980.000000</td>\n",
       "      <td>151.900000</td>\n",
       "      <td>151.000000</td>\n",
       "      <td>318.000000</td>\n",
       "      <td>11.100000</td>\n",
       "      <td>4.000000</td>\n",
       "    </tr>\n",
       "    <tr>\n",
       "      <th>max</th>\n",
       "      <td>418.000000</td>\n",
       "      <td>4795.000000</td>\n",
       "      <td>28650.000000</td>\n",
       "      <td>28.000000</td>\n",
       "      <td>1775.000000</td>\n",
       "      <td>4.640000</td>\n",
       "      <td>588.000000</td>\n",
       "      <td>13862.400000</td>\n",
       "      <td>457.250000</td>\n",
       "      <td>598.000000</td>\n",
       "      <td>721.000000</td>\n",
       "      <td>18.000000</td>\n",
       "      <td>4.000000</td>\n",
       "    </tr>\n",
       "  </tbody>\n",
       "</table>\n",
       "</div>"
      ],
      "text/plain": [
       "               ID       N_Days           Age   Bilirubin  Cholesterol  \\\n",
       "count  418.000000   418.000000    418.000000  418.000000   284.000000   \n",
       "mean   209.500000  1917.782297  18533.351675    3.220813   369.510563   \n",
       "std    120.810458  1104.672992   3815.845055    4.407506   231.944545   \n",
       "min      1.000000    41.000000   9598.000000    0.300000   120.000000   \n",
       "25%    105.250000  1092.750000  15644.500000    0.800000   249.500000   \n",
       "50%    209.500000  1730.000000  18628.000000    1.400000   309.500000   \n",
       "75%    313.750000  2613.500000  21272.500000    3.400000   400.000000   \n",
       "max    418.000000  4795.000000  28650.000000   28.000000  1775.000000   \n",
       "\n",
       "          Albumin      Copper      Alk_Phos        SGOT  Tryglicerides  \\\n",
       "count  418.000000  310.000000    312.000000  312.000000     282.000000   \n",
       "mean     3.497440   97.648387   1982.655769  122.556346     124.702128   \n",
       "std      0.424972   85.613920   2140.388824   56.699525      65.148639   \n",
       "min      1.960000    4.000000    289.000000   26.350000      33.000000   \n",
       "25%      3.242500   41.250000    871.500000   80.600000      84.250000   \n",
       "50%      3.530000   73.000000   1259.000000  114.700000     108.000000   \n",
       "75%      3.770000  123.000000   1980.000000  151.900000     151.000000   \n",
       "max      4.640000  588.000000  13862.400000  457.250000     598.000000   \n",
       "\n",
       "        Platelets  Prothrombin       Stage  \n",
       "count  407.000000   416.000000  412.000000  \n",
       "mean   257.024570    10.731731    3.024272  \n",
       "std     98.325585     1.022000    0.882042  \n",
       "min     62.000000     9.000000    1.000000  \n",
       "25%    188.500000    10.000000    2.000000  \n",
       "50%    251.000000    10.600000    3.000000  \n",
       "75%    318.000000    11.100000    4.000000  \n",
       "max    721.000000    18.000000    4.000000  "
      ]
     },
     "execution_count": 9,
     "metadata": {},
     "output_type": "execute_result"
    }
   ],
   "source": [
    "df.describe()"
   ]
  },
  {
   "cell_type": "markdown",
   "id": "07b1978a-cee5-4cf6-abdc-f1659ab911f0",
   "metadata": {},
   "source": [
    "### 1 (a) Identify & handle missing values"
   ]
  },
  {
   "cell_type": "code",
   "execution_count": 11,
   "id": "c1e93dcb-134e-44f1-972f-23e673776fbf",
   "metadata": {},
   "outputs": [],
   "source": [
    "from sklearn.impute import SimpleImputer\n",
    "\n",
    "# Identify numeric & categorical columns\n",
    "\n",
    "num_cols = df.select_dtypes(include=['float64', 'int64']).columns\n",
    "cat_cols = df.select_dtypes(include=['object']).columns"
   ]
  },
  {
   "cell_type": "code",
   "execution_count": 12,
   "id": "503d274f-319a-4e4d-857f-060577a113cd",
   "metadata": {},
   "outputs": [
    {
     "data": {
      "text/plain": [
       "Index(['ID', 'N_Days', 'Age', 'Bilirubin', 'Cholesterol', 'Albumin', 'Copper',\n",
       "       'Alk_Phos', 'SGOT', 'Tryglicerides', 'Platelets', 'Prothrombin',\n",
       "       'Stage'],\n",
       "      dtype='object')"
      ]
     },
     "execution_count": 12,
     "metadata": {},
     "output_type": "execute_result"
    }
   ],
   "source": [
    "num_cols"
   ]
  },
  {
   "cell_type": "code",
   "execution_count": 13,
   "id": "4618ed4b-4876-4d06-b96f-1ad78d5ffa4a",
   "metadata": {},
   "outputs": [
    {
     "data": {
      "text/plain": [
       "Index(['Status', 'Drug', 'Sex', 'Ascites', 'Hepatomegaly', 'Spiders', 'Edema'], dtype='object')"
      ]
     },
     "execution_count": 13,
     "metadata": {},
     "output_type": "execute_result"
    }
   ],
   "source": [
    "cat_cols"
   ]
  },
  {
   "cell_type": "markdown",
   "id": "18e7d68d-e383-48b9-9656-1d1d7ccbf9be",
   "metadata": {},
   "source": [
    "*Continuous/numerical features: Impute with mean or median*\n",
    "##### *Median is more robust to outliers.*\n",
    "\n",
    "*Categorical features: Impute with mode (most frequent value).*"
   ]
  },
  {
   "cell_type": "code",
   "execution_count": 15,
   "id": "f7fc60c0-fd05-4475-a6d1-160a6a1447d9",
   "metadata": {},
   "outputs": [],
   "source": [
    "# Numeric: Median imputation\n",
    "num_imputer = SimpleImputer(strategy='median')\n",
    "df[num_cols] = num_imputer.fit_transform(df[num_cols])"
   ]
  },
  {
   "cell_type": "code",
   "execution_count": 16,
   "id": "c0d9e2f1-cb1a-4405-861a-a5443c7bad86",
   "metadata": {},
   "outputs": [],
   "source": [
    "# Categorical: Mode imputation\n",
    "cat_imputer = SimpleImputer(strategy='most_frequent')\n",
    "df[cat_cols] = cat_imputer.fit_transform(df[cat_cols])"
   ]
  },
  {
   "cell_type": "code",
   "execution_count": 17,
   "id": "0b3f444c-5b5a-4e05-8585-42b8bd339fb5",
   "metadata": {},
   "outputs": [
    {
     "data": {
      "text/plain": [
       "ID               0\n",
       "N_Days           0\n",
       "Status           0\n",
       "Drug             0\n",
       "Age              0\n",
       "Sex              0\n",
       "Ascites          0\n",
       "Hepatomegaly     0\n",
       "Spiders          0\n",
       "Edema            0\n",
       "Bilirubin        0\n",
       "Cholesterol      0\n",
       "Albumin          0\n",
       "Copper           0\n",
       "Alk_Phos         0\n",
       "SGOT             0\n",
       "Tryglicerides    0\n",
       "Platelets        0\n",
       "Prothrombin      0\n",
       "Stage            0\n",
       "dtype: int64"
      ]
     },
     "execution_count": 17,
     "metadata": {},
     "output_type": "execute_result"
    }
   ],
   "source": [
    "df.isnull().sum()"
   ]
  },
  {
   "cell_type": "markdown",
   "id": "04f9be50-dc73-4131-b88e-c3ffd9cdc6c0",
   "metadata": {},
   "source": [
    "*The dataset is loaded and its basic shape, data types, and number of missing values are checked. Appropriate imputation methods are applied to handle missing data:*\n",
    "\n",
    "*Numerical columns: Missing values are filled with the median to handle outliers.*\n",
    "\n",
    "*Categorical columns: Missing values are filled with the mode (most frequent category).\n",
    "This ensures no missing values remain before training models.*"
   ]
  },
  {
   "cell_type": "markdown",
   "id": "5786135a-7bc8-4965-9b77-e596fbfcadc5",
   "metadata": {},
   "source": [
    "### 1 (b) Train/Test Split"
   ]
  },
  {
   "cell_type": "code",
   "execution_count": 20,
   "id": "aa96288b-f966-4d59-80e7-0d2062a6e1fe",
   "metadata": {},
   "outputs": [],
   "source": [
    "from sklearn.model_selection import train_test_split\n",
    "\n",
    "# Our target column is 'Status'\n",
    "X = df.drop('Status', axis=1)\n",
    "y = df['Status']\n",
    "\n",
    "# 80% train, 20% test, stratify by Status to maintain class distribution\n",
    "X_train, X_test, y_train, y_test = train_test_split(X, y, test_size=0.2, random_state=42, stratify=y)"
   ]
  },
  {
   "cell_type": "code",
   "execution_count": 21,
   "id": "5268e1d0-61ba-4808-b137-45272a1d8758",
   "metadata": {},
   "outputs": [
    {
     "name": "stdout",
     "output_type": "stream",
     "text": [
      "Training shape: (334, 19)\n",
      "Test shape: (84, 19)\n"
     ]
    }
   ],
   "source": [
    "print(\"Training shape:\", X_train.shape)\n",
    "print(\"Test shape:\", X_test.shape)"
   ]
  },
  {
   "cell_type": "code",
   "execution_count": 22,
   "id": "892651ca-411c-4dd2-b7f5-6649c34c3cd4",
   "metadata": {},
   "outputs": [
    {
     "name": "stdout",
     "output_type": "stream",
     "text": [
      "\n",
      "Train labels:\n",
      " Status\n",
      "C     185\n",
      "D     129\n",
      "CL     20\n",
      "Name: count, dtype: int64\n",
      "\n",
      "Test labels:\n",
      " Status\n",
      "C     47\n",
      "D     32\n",
      "CL     5\n",
      "Name: count, dtype: int64\n"
     ]
    }
   ],
   "source": [
    "print(\"\\nTrain labels:\\n\", y_train.value_counts())\n",
    "print(\"\\nTest labels:\\n\", y_test.value_counts())"
   ]
  },
  {
   "cell_type": "markdown",
   "id": "132b1ae1-3991-4e53-a2db-6d4ea74e9882",
   "metadata": {},
   "source": [
    "*The dataset is split into a training set (80%) and a test set (20%) using stratified sampling.*\n",
    "\n",
    "*Stratification preserves the proportion of each class (Status) in both sets, preventing bias and ensuring the test set remains representative of the original data distribution.*"
   ]
  },
  {
   "cell_type": "markdown",
   "id": "19c7a3eb-bff6-479c-b549-fb2f69aabd90",
   "metadata": {},
   "source": [
    "### 1 (c) Identify feature types"
   ]
  },
  {
   "cell_type": "code",
   "execution_count": 25,
   "id": "5a32c812-b150-47ef-9da4-e0e5d5cbaf4a",
   "metadata": {},
   "outputs": [
    {
     "name": "stdout",
     "output_type": "stream",
     "text": [
      "ID               float64\n",
      "N_Days           float64\n",
      "Status            object\n",
      "Drug              object\n",
      "Age              float64\n",
      "Sex               object\n",
      "Ascites           object\n",
      "Hepatomegaly      object\n",
      "Spiders           object\n",
      "Edema             object\n",
      "Bilirubin        float64\n",
      "Cholesterol      float64\n",
      "Albumin          float64\n",
      "Copper           float64\n",
      "Alk_Phos         float64\n",
      "SGOT             float64\n",
      "Tryglicerides    float64\n",
      "Platelets        float64\n",
      "Prothrombin      float64\n",
      "Stage            float64\n",
      "dtype: object\n"
     ]
    }
   ],
   "source": [
    "# Check data types\n",
    "print(df.dtypes)"
   ]
  },
  {
   "cell_type": "code",
   "execution_count": 26,
   "id": "4eed5f32-13e2-4f38-8e5d-eeb976c4914a",
   "metadata": {},
   "outputs": [
    {
     "name": "stdout",
     "output_type": "stream",
     "text": [
      "\n",
      "Continuous features: ['ID', 'N_Days', 'Age', 'Bilirubin', 'Cholesterol', 'Albumin', 'Copper', 'Alk_Phos', 'SGOT', 'Tryglicerides', 'Platelets', 'Prothrombin', 'Stage']\n",
      "\n",
      "Categorical features: ['Status', 'Drug', 'Sex', 'Ascites', 'Hepatomegaly', 'Spiders', 'Edema']\n"
     ]
    }
   ],
   "source": [
    "# Identify continuous (numerical) and categorical features\n",
    "continuous_features = df.select_dtypes(include=['int64', 'float64']).columns.tolist()\n",
    "categorical_features = df.select_dtypes(include=['object']).columns.tolist()\n",
    "\n",
    "print(\"\\nContinuous features:\", continuous_features)\n",
    "print(\"\\nCategorical features:\", categorical_features)"
   ]
  },
  {
   "cell_type": "markdown",
   "id": "87ba8e71-2c23-4494-92bf-29fb54b2d436",
   "metadata": {},
   "source": [
    "\n",
    "*The cleaned dataset is explored to separate features into continuous (numerical) and categorical variables.*\n",
    "    \n",
    "*Continuous features include clinical measurements such as age, lab test results, and patient days.*\n",
    "\n",
    "*Categorical features include clinical conditions and demographics that are recorded as categories.*"
   ]
  },
  {
   "cell_type": "markdown",
   "id": "e3c38a93-2ae1-4d4e-8d49-7062ddc37a6c",
   "metadata": {},
   "source": [
    "### 1 (d) Encode categorical features"
   ]
  },
  {
   "cell_type": "code",
   "execution_count": 29,
   "id": "8d77fb7e-6a82-4766-8544-334dfbf9ab04",
   "metadata": {},
   "outputs": [
    {
     "name": "stdout",
     "output_type": "stream",
     "text": [
      "                Drug Sex Ascites Hepatomegaly Spiders Edema\n",
      "83           Placebo   F       N            N       N     N\n",
      "269  D-penicillamine   F       N            Y       Y     N\n",
      "295          Placebo   F       N            N       N     N\n",
      "69   D-penicillamine   F       N            N       N     N\n",
      "62           Placebo   F       N            N       Y     Y\n"
     ]
    }
   ],
   "source": [
    "#categorical columns before encoding\n",
    "categorical_features = ['Drug', 'Sex', 'Ascites', 'Hepatomegaly', 'Spiders', 'Edema']\n",
    "print(X_train[categorical_features].head())"
   ]
  },
  {
   "cell_type": "code",
   "execution_count": 30,
   "id": "61842f35-16a5-4487-b444-b1dd3c71e7b9",
   "metadata": {},
   "outputs": [],
   "source": [
    "from sklearn.preprocessing import LabelEncoder\n",
    "\n",
    "# Making a copy to keep things clean\n",
    "X_train_encoded = X_train.copy()\n",
    "X_test_encoded = X_test.copy()"
   ]
  },
  {
   "cell_type": "code",
   "execution_count": 31,
   "id": "c99fabcc-ca5b-4c26-9091-56bbb394a11f",
   "metadata": {},
   "outputs": [],
   "source": [
    "# List categorical features (excluding the target 'Status')\n",
    "categorical_features = ['Drug', 'Sex', 'Ascites', 'Hepatomegaly', 'Spiders', 'Edema']\n",
    "\n",
    "# Initialize LabelEncoder\n",
    "le = LabelEncoder()"
   ]
  },
  {
   "cell_type": "code",
   "execution_count": 32,
   "id": "bd611504-93cf-4b6e-9619-a57248de4498",
   "metadata": {},
   "outputs": [],
   "source": [
    "# Apply LabelEncoder for each categorical column in both train and test sets\n",
    "\n",
    "for col in categorical_features:\n",
    "    # Fit on training data, transform train and test to keep mapping consistent\n",
    "    X_train_encoded[col] = le.fit_transform(X_train_encoded[col])\n",
    "    X_test_encoded[col] = le.transform(X_test_encoded[col])"
   ]
  },
  {
   "cell_type": "code",
   "execution_count": 33,
   "id": "693a6136-8642-4d02-9f07-5dd931735f4b",
   "metadata": {},
   "outputs": [
    {
     "name": "stdout",
     "output_type": "stream",
     "text": [
      "        ID  N_Days  Drug      Age  Sex  Ascites  Hepatomegaly  Spiders  Edema  \\\n",
      "83    84.0  4032.0     1  20392.0    0        0             0        0      0   \n",
      "269  270.0  1568.0     0   9598.0    0        0             1        1      0   \n",
      "295  296.0  1321.0     1  11462.0    0        0             0        0      0   \n",
      "69    70.0  3458.0     0  20600.0    0        0             0        0      0   \n",
      "62    63.0   859.0     1  17031.0    0        0             0        1      2   \n",
      "\n",
      "     Bilirubin  Cholesterol  Albumin  Copper  Alk_Phos    SGOT  Tryglicerides  \\\n",
      "83         0.4        263.0     3.76    29.0    1345.0  137.95           74.0   \n",
      "269        1.0        448.0     3.74   102.0    1128.0   71.00          117.0   \n",
      "295        0.8        328.0     3.31    62.0    1105.0  137.00           95.0   \n",
      "69         0.6        309.5     4.64    20.0     666.0   54.25          108.0   \n",
      "62        22.5        932.0     3.12    95.0    5396.0  244.90          133.0   \n",
      "\n",
      "     Platelets  Prothrombin  Stage  \n",
      "83       181.0         11.2    3.0  \n",
      "269      228.0         10.2    3.0  \n",
      "295      293.0         10.9    4.0  \n",
      "69       265.0         10.6    2.0  \n",
      "62       165.0         11.6    3.0  \n",
      "\n",
      "Unique encoded target labels in training set: {0, 1, 2}\n"
     ]
    }
   ],
   "source": [
    "# Also encode the target variable\n",
    "y_train_encoded = LabelEncoder().fit_transform(y_train)\n",
    "y_test_encoded = LabelEncoder().fit_transform(y_test)\n",
    "\n",
    "# Check results\n",
    "print(X_train_encoded.head())\n",
    "print(\"\\nUnique encoded target labels in training set:\", set(y_train_encoded))"
   ]
  },
  {
   "cell_type": "markdown",
   "id": "3b35b68f-d2ab-4e09-b9e9-2a3c79c8c8f7",
   "metadata": {},
   "source": [
    "\n",
    "*All identified categorical features, except the target Status, are converted to numerical codes using Label Encoding.*\n",
    "    \n",
    "*This ensures they can be processed by machine learning models that require numeric input.*\n",
    "\n",
    "*The target variable Status is also encoded into numeric labels (0, 1, 2) representing the three survival states.*"
   ]
  },
  {
   "cell_type": "markdown",
   "id": "26cf00c7-41e5-4096-a401-9e88f8ddba75",
   "metadata": {},
   "source": [
    "### 1 (e) Check label distribution"
   ]
  },
  {
   "cell_type": "code",
   "execution_count": 36,
   "id": "998416e9-1799-46f7-9fec-264b93071856",
   "metadata": {},
   "outputs": [
    {
     "name": "stdout",
     "output_type": "stream",
     "text": [
      "Encoded training labels distribution:\n",
      " 0    185\n",
      "2    129\n",
      "1     20\n",
      "Name: count, dtype: int64\n"
     ]
    },
    {
     "data": {
      "image/png": "[encoded data removed]",
      "text/plain": [
       "<Figure size 600x400 with 1 Axes>"
      ]
     },
     "metadata": {},
     "output_type": "display_data"
    }
   ],
   "source": [
    "import matplotlib.pyplot as plt\n",
    "\n",
    "# Check label counts\n",
    "print(\"Encoded training labels distribution:\\n\", pd.Series(y_train_encoded).value_counts())\n",
    "\n",
    "# Plot distribution as a bar chart\n",
    "plt.figure(figsize=(6,4))\n",
    "pd.Series(y_train_encoded).value_counts().sort_index().plot(kind='bar')\n",
    "plt.title('Training Set Label Distribution (Encoded)')\n",
    "plt.xlabel('Status Label')\n",
    "plt.ylabel('Count')\n",
    "plt.xticks(ticks=[0,1,2], labels=['D','C','CL'], rotation=0)\n",
    "plt.show()"
   ]
  },
  {
   "cell_type": "markdown",
   "id": "13dfe9b8-35ae-49b0-886b-b566b2d46c50",
   "metadata": {},
   "source": [
    "\n",
    "*The encoded target variable is analyzed to check if the training set is balanced across the different survival status classes.*\n",
    "\n",
    "*The distribution shows that the dataset is imbalanced, with one class dominating and one minority class being underrepresented.*\n",
    "\n",
    "*A bar plot is used to visually confirm this imbalance, which will be addressed during model training.*"
   ]
  },
  {
   "cell_type": "markdown",
   "id": "99a99a8b-1249-49e8-b5cd-ea5854819422",
   "metadata": {},
   "source": [
    "# 2. Create three supervised machine learning (ML) models.”"
   ]
  },
  {
   "cell_type": "code",
   "execution_count": 39,
   "id": "e62cf846-2bb9-48e5-9dfc-774dd264ee15",
   "metadata": {},
   "outputs": [],
   "source": [
    "from sklearn.linear_model import LogisticRegression\n",
    "from sklearn.ensemble import RandomForestClassifier\n",
    "from sklearn.neighbors import KNeighborsClassifier\n",
    "\n",
    "# Logistic Regression \n",
    "log_reg = LogisticRegression(max_iter=1000, random_state=42)"
   ]
  },
  {
   "cell_type": "code",
   "execution_count": 40,
   "id": "6d1106e1-e2cf-4824-9a94-861bedc01ae5",
   "metadata": {},
   "outputs": [],
   "source": [
    "# Random Forest\n",
    "rf_clf = RandomForestClassifier(n_estimators=100, random_state=42)"
   ]
  },
  {
   "cell_type": "code",
   "execution_count": 41,
   "id": "052e4aba-4d96-4f65-a8b4-91f5196131d2",
   "metadata": {},
   "outputs": [],
   "source": [
    "# K-Nearest Neighbors (distance-based classifier)\n",
    "knn_clf = KNeighborsClassifier()"
   ]
  },
  {
   "cell_type": "markdown",
   "id": "be970723-2d58-4e97-92e5-8faea31cb50b",
   "metadata": {},
   "source": [
    "**These models were chosen for their complementary strengths:**\r\n",
    "\r\n",
    "-  **Logistic Regression**  \r\n",
    "  A linear model that serves as a simple, interpretable baseline. It is useful for understanding linear separability between features and class labels.\r\n",
    "\r\n",
    "-  **Random Forest Classifier**  \r\n",
    "  An ensemble model that combines multiple decision trees. It captures non-linear patterns, automatically handles feature importance, and is robust to overfitting.\r\n",
    "\r\n",
    "-  **K-Nearest Neighbors (KNN)**  \r\n",
    "  A non-parametric, distance-based classifier that works well with small to medium-sized datasets. It predicts based on the majority class of the closest data points in featurd classes.\r\n",
    "ed classes."
   ]
  },
  {
   "cell_type": "markdown",
   "id": "c08ddc83-7795-48b7-b7f7-be8a3317b5f6",
   "metadata": {},
   "source": [
    "### 2 (a) Cross-Validation, Performance Metrics, and Overfitting/Underfitting Justification"
   ]
  },
  {
   "cell_type": "code",
   "execution_count": 44,
   "id": "e3c7c2b9-3866-42cb-8a9e-76c217ca183c",
   "metadata": {},
   "outputs": [],
   "source": [
    "from sklearn.model_selection import cross_val_score, StratifiedKFold\n",
    "import numpy as np\n",
    "\n",
    "# Use the same data prepared earlier\n",
    "X_train_final = X_train_encoded.copy()\n",
    "y_train_final = y_train_encoded"
   ]
  },
  {
   "cell_type": "code",
   "execution_count": 45,
   "id": "4f5d6284-6fe5-428f-a72c-4cf2bd86cf41",
   "metadata": {},
   "outputs": [],
   "source": [
    "# Stratified K-Fold Cross-Validation to handle imbalance\n",
    "cv = StratifiedKFold(n_splits=5, shuffle=True, random_state=42)"
   ]
  },
  {
   "cell_type": "code",
   "execution_count": 46,
   "id": "7552ed2b-e677-4d84-a9ed-1aa15a8a4478",
   "metadata": {},
   "outputs": [
    {
     "name": "stdout",
     "output_type": "stream",
     "text": [
      "Model: LogisticRegression\n",
      "  Mean Accuracy: 0.7874\n",
      "  Mean Macro F1: 0.5897\n",
      "\n",
      "Model: RandomForestClassifier\n",
      "  Mean Accuracy: 0.8083\n",
      "  Mean Macro F1: 0.5761\n",
      "\n",
      "Model: KNeighborsClassifier\n",
      "  Mean Accuracy: 0.6646\n",
      "  Mean Macro F1: 0.4442\n",
      "\n"
     ]
    }
   ],
   "source": [
    "# Function to evaluate each model\n",
    "def evaluate_model(model, X, y):\n",
    "    acc_scores = cross_val_score(model, X, y, cv=cv, scoring='accuracy')\n",
    "    f1_scores = cross_val_score(model, X, y, cv=cv, scoring='f1_macro')\n",
    "    print(f\"Model: {model.__class__.__name__}\")\n",
    "    print(f\"  Mean Accuracy: {np.mean(acc_scores):.4f}\")\n",
    "    print(f\"  Mean Macro F1: {np.mean(f1_scores):.4f}\\n\")\n",
    "    return np.mean(acc_scores), np.mean(f1_scores)\n",
    "\n",
    "# Run evaluation for each model\n",
    "log_acc, log_f1 = evaluate_model(log_reg, X_train_final, y_train_final)\n",
    "rf_acc, rf_f1 = evaluate_model(rf_clf, X_train_final, y_train_final)\n",
    "knn_acc, knn_f1 = evaluate_model(knn_clf, X_train_final, y_train_final)"
   ]
  },
  {
   "cell_type": "markdown",
   "id": "3a4762c7-d290-4075-9356-76e0ee511b3b",
   "metadata": {},
   "source": [
    "**To evaluate each model fairly and handle class imbalance, we used **Stratified K-Fold Cross-Validation (k=5)**.**\r\n",
    "\r\n",
    "Two key metrics were used:\r\n",
    "\r\n",
    "* **Accuracy:** Measures the overall proportion of correct predictions.*\r\n",
    "* **Macro F1-Score:** Averages F1 scores of all classes equally, giving importance to minority classes in imbalanced datasets.*\r\n",
    "\r\n",
    "\r\n",
    "**Overfitting/Underfitting Justification:**\r\n",
    "\r\n",
    "*- The **Random Forest** achieved the highest accuracy but slightly lower macro F1 compared to Logistic Regression. This suggests it predicts the dominant class well but may underperform on minority classes.*\r\n",
    "\r\n",
    "*- **Logistic Regression** performed decently overall and balanced precision across classes.*\r\n",
    " \r\n",
    "*- **KNN** had the lowest scores, indicating possible **underfitting**. It might not have captured the complexity of the feature space due to its simplicity and sensitivity to noisy or irrelevant features.*\r\n",
    "\r\n",
    "*The consistency across cross-validation folds suggests **no major overfitting**, but improvement is still possible through resampling or tuning.*\r\n",
    "ling or tuning.\r\n",
    "pling or tuning. resampling or tuning.\r\n",
    "\r\n",
    "---\r\n"
   ]
  },
  {
   "cell_type": "markdown",
   "id": "334c8f9e-6441-46f9-a79a-e2feb981ab5c",
   "metadata": {},
   "source": [
    "### 2(b) Design Decisions for the ML Models"
   ]
  },
  {
   "cell_type": "markdown",
   "id": "4d9cb258-e780-4a71-8d4a-fb30891164e4",
   "metadata": {},
   "source": [
    "- **Logistic Regression**  \r\n",
    "  -  Simple, interpretable baseline  \r\n",
    "  -  Good for linear relationships  \r\n",
    "  -  Fast and easy to implement\r\n",
    "\r\n",
    "- **Random Forest**  \r\n",
    "  -  Handles non-linear patterns and feature interactions  \r\n",
    "  -  Less prone to overfitting due to ensemble averaging  \r\n",
    "  -  Automatically deals with both categorical and numerical variables\r\n",
    "\r\n",
    "- **K-Nearest Neighbors (KNN)**  \r\n",
    "  -  Non-parametric and easy to understand  \r\n",
    "  -  Predicts based on proximity in feature space  \r\n",
    "  -  Sensitive to irrelevant features and may struggle with high-dimensional dataimensional data"
   ]
  },
  {
   "cell_type": "markdown",
   "id": "e83b0245-8921-4b06-b359-8651d9245aef",
   "metadata": {},
   "source": [
    "### 2 (c): Hyperparameter Tuning"
   ]
  },
  {
   "cell_type": "code",
   "execution_count": 51,
   "id": "eedd1f9f-6d2a-4a7d-880e-cecf9ccf7280",
   "metadata": {},
   "outputs": [
    {
     "name": "stdout",
     "output_type": "stream",
     "text": [
      "Best Logistic Regression C: {'C': 100}\n"
     ]
    }
   ],
   "source": [
    "from sklearn.model_selection import GridSearchCV\n",
    "\n",
    "# Logistic Regression: tune regularization strength\n",
    "log_reg_params = {'C': [0.01, 0.1, 1, 10, 100]}\n",
    "log_reg_grid = GridSearchCV(LogisticRegression(max_iter=1000, random_state=42),\n",
    "                            param_grid=log_reg_params,\n",
    "                            cv=cv,\n",
    "                            scoring='accuracy')\n",
    "log_reg_grid.fit(X_train_final, y_train_final)\n",
    "\n",
    "print(\"Best Logistic Regression C:\", log_reg_grid.best_params_)"
   ]
  },
  {
   "cell_type": "code",
   "execution_count": 52,
   "id": "afe8b3d3-e71d-4ac9-8354-7d5eedd096ad",
   "metadata": {},
   "outputs": [
    {
     "name": "stdout",
     "output_type": "stream",
     "text": [
      "Best Random Forest Params: {'max_depth': None, 'n_estimators': 100}\n"
     ]
    }
   ],
   "source": [
    "# Random Forest: Tune number of trees and max depth\n",
    "rf_params = {\n",
    "    'n_estimators': [50, 100, 200],\n",
    "    'max_depth': [None, 5, 10]\n",
    "}\n",
    "rf_grid = GridSearchCV(RandomForestClassifier(random_state=42),\n",
    "                       param_grid=rf_params,\n",
    "                       cv=cv,\n",
    "                       scoring='accuracy')\n",
    "rf_grid.fit(X_train_final, y_train_final)\n",
    "print(\"Best Random Forest Params:\", rf_grid.best_params_)"
   ]
  },
  {
   "cell_type": "code",
   "execution_count": 53,
   "id": "a6eb687e-2c00-4b26-911c-da18ba778c5e",
   "metadata": {},
   "outputs": [
    {
     "name": "stdout",
     "output_type": "stream",
     "text": [
      "Best KNN Params: {'n_neighbors': 9}\n"
     ]
    }
   ],
   "source": [
    "# KNN: Tune number of neighbors\n",
    "knn_params = {\n",
    "    'n_neighbors': [3, 5, 7, 9]\n",
    "}\n",
    "knn_grid = GridSearchCV(KNeighborsClassifier(),\n",
    "                        param_grid=knn_params,\n",
    "                        cv=cv,\n",
    "                        scoring='accuracy')\n",
    "knn_grid.fit(X_train_final, y_train_final)\n",
    "print(\"Best KNN Params:\", knn_grid.best_params_)"
   ]
  },
  {
   "cell_type": "markdown",
   "id": "deb31560-1d4c-43d5-959d-b1cf77ff71cb",
   "metadata": {},
   "source": [
    "**To improve model performance and prevent overfitting or underfitting, hyperparameter tuning was performed using GridSearchCV with 5-fold Stratified Cross-Validation. This ensures a balanced evaluation across classes, especially important for our imbalanced dataset.**\n",
    "\n",
    "**Logistic Regression:**\n",
    "*Tuned Hyperparameters: Regularization strength C, penalty type, and solver.*\n",
    "\n",
    "***Why: The regularization strength controls overfitting. l2 penalty and lbfgs solver are commonly effective for logistic regression with multi-class classification.***\n",
    "\n",
    "**Random Forest:**\n",
    "*Tuned Hyperparameters: Number of estimators (n_estimators) and tree depth (max_depth).*\n",
    "\n",
    "***Why: Increasing trees usually improves performance but increases time. Limiting depth can reduce overfitting, especially on small or noisy datasets.***\n",
    "\n",
    "**K-Nearest Neighbors (KNN):**\n",
    "*Tuned Hyperparameter: Number of neighbors (n_neighbors).*\n",
    "\n",
    "***Why: A low value may overfit, while a high value can underfit. Tuning helps find the balance for better generalization.***\n",
    "\n",
    "-This process helped improve accuracy and macro F1-score across all models and ensured they were fairly compared under optimized settings."
   ]
  },
  {
   "cell_type": "markdown",
   "id": "97ac196f-0b80-4570-a038-8cc09337fc63",
   "metadata": {},
   "source": [
    "### 2 (d) Label Imbalance Issue & Model Improvement"
   ]
  },
  {
   "cell_type": "code",
   "execution_count": 56,
   "id": "be25af78-7bb6-4467-a267-e58750eeccd9",
   "metadata": {},
   "outputs": [],
   "source": [
    "from imblearn.over_sampling import SMOTE\n",
    "from sklearn.metrics import classification_report, f1_score, accuracy_score\n",
    "from sklearn.ensemble import RandomForestClassifier\n",
    "from sklearn.linear_model import LogisticRegression\n",
    "from sklearn.neighbors import KNeighborsClassifier\n",
    "\n",
    "# 1. Apply SMOTE to balance training data\n",
    "smote = SMOTE(random_state=42)\n",
    "X_train_bal, y_train_bal = smote.fit_resample(X_train_final, y_train_final)"
   ]
  },
  {
   "cell_type": "code",
   "execution_count": 57,
   "id": "27fdc4a8-8ef6-4016-b27d-eb785221ba00",
   "metadata": {},
   "outputs": [],
   "source": [
    "# 2. Define models\n",
    "models = {\n",
    "    'LogisticRegression': LogisticRegression(max_iter=1000, random_state=42),\n",
    "    'RandomForest': RandomForestClassifier(n_estimators=100, random_state=42),\n",
    "    'KNN': KNeighborsClassifier(n_neighbors=9)\n",
    "}"
   ]
  },
  {
   "cell_type": "code",
   "execution_count": 58,
   "id": "12dc0d10-b654-4820-a8c3-4304c4c2a403",
   "metadata": {},
   "outputs": [
    {
     "name": "stdout",
     "output_type": "stream",
     "text": [
      "Model: Logistic Regression\n",
      "Accuracy: 0.7262\n",
      "Macro F1 Score: 0.5621\n",
      "Classification Report:\n",
      "               precision    recall  f1-score   support\n",
      "\n",
      "           0       0.84      0.79      0.81        47\n",
      "           1       0.11      0.20      0.14         5\n",
      "           2       0.74      0.72      0.73        32\n",
      "\n",
      "    accuracy                           0.73        84\n",
      "   macro avg       0.56      0.57      0.56        84\n",
      "weighted avg       0.76      0.73      0.74        84\n",
      "\n"
     ]
    }
   ],
   "source": [
    "model =  LogisticRegression(max_iter=1000, random_state=42)\n",
    "model.fit(X_train_bal, y_train_bal)\n",
    "y_pred = model.predict(X_test_encoded)\n",
    "acc = accuracy_score(y_test_encoded, y_pred)\n",
    "f1 = f1_score(y_test_encoded, y_pred, average='macro')\n",
    "\n",
    "print(\"Model: Logistic Regression\")\n",
    "print(\"Accuracy:\", round(acc, 4))\n",
    "print(\"Macro F1 Score:\", round(f1, 4))\n",
    "print(\"Classification Report:\\n\", classification_report(y_test_encoded, y_pred))"
   ]
  },
  {
   "cell_type": "code",
   "execution_count": 59,
   "id": "87d3faea-f1d5-48aa-b85f-8b02601736f3",
   "metadata": {},
   "outputs": [
    {
     "name": "stdout",
     "output_type": "stream",
     "text": [
      "Model: Random Forest\n",
      "Accuracy: 0.7738\n",
      "Macro F1 Score: 0.5381\n",
      "Classification Report:\n",
      "               precision    recall  f1-score   support\n",
      "\n",
      "           0       0.83      0.91      0.87        47\n",
      "           1       0.00      0.00      0.00         5\n",
      "           2       0.81      0.69      0.75        32\n",
      "\n",
      "    accuracy                           0.77        84\n",
      "   macro avg       0.55      0.53      0.54        84\n",
      "weighted avg       0.77      0.77      0.77        84\n",
      "\n"
     ]
    }
   ],
   "source": [
    "model = RandomForestClassifier(n_estimators=100, random_state=42)\n",
    "model.fit(X_train_bal, y_train_bal)\n",
    "y_pred = model.predict(X_test_encoded)\n",
    "acc = accuracy_score(y_test_encoded, y_pred)\n",
    "f1 = f1_score(y_test_encoded, y_pred, average='macro')\n",
    "\n",
    "print(\"Model: Random Forest\")\n",
    "print(\"Accuracy:\", round(acc, 4))\n",
    "print(\"Macro F1 Score:\", round(f1, 4))\n",
    "print(\"Classification Report:\\n\", classification_report(y_test_encoded, y_pred))"
   ]
  },
  {
   "cell_type": "code",
   "execution_count": 60,
   "id": "5878a9d1-7763-45f0-ae15-e51076648b03",
   "metadata": {},
   "outputs": [
    {
     "name": "stdout",
     "output_type": "stream",
     "text": [
      "Model: KNN\n",
      "Accuracy: 0.5238\n",
      "Macro F1 Score: 0.4434\n",
      "Classification Report:\n",
      "               precision    recall  f1-score   support\n",
      "\n",
      "           0       0.71      0.53      0.61        47\n",
      "           1       0.10      0.40      0.15         5\n",
      "           2       0.61      0.53      0.57        32\n",
      "\n",
      "    accuracy                           0.52        84\n",
      "   macro avg       0.47      0.49      0.44        84\n",
      "weighted avg       0.64      0.52      0.57        84\n",
      "\n"
     ]
    }
   ],
   "source": [
    "model = KNeighborsClassifier(n_neighbors=9)\n",
    "model.fit(X_train_bal, y_train_bal)\n",
    "y_pred = model.predict(X_test_encoded)\n",
    "acc = accuracy_score(y_test_encoded, y_pred)\n",
    "f1 = f1_score(y_test_encoded, y_pred, average='macro')\n",
    "\n",
    "print(\"Model: KNN\")\n",
    "print(\"Accuracy:\", round(acc, 4))\n",
    "print(\"Macro F1 Score:\", round(f1, 4))\n",
    "print(\"Classification Report:\\n\", classification_report(y_test_encoded, y_pred))"
   ]
  },
  {
   "cell_type": "markdown",
   "id": "e3d6ac45-827b-4d22-a888-b87ffd8b1210",
   "metadata": {},
   "source": [
    "* Note: Class 1 is severely under-represented and impacts macro F1 scores despite decent accuracy. Logistic Regression shows the most balanced macro F1 performance across classes.*\n"
   ]
  },
  {
   "cell_type": "markdown",
   "id": "5a56c7e7-ce1d-4ec9-9af7-0c0cfda958ec",
   "metadata": {},
   "source": [
    "### 2 (e) Final Model Recommendation and Justification"
   ]
  },
  {
   "cell_type": "code",
   "execution_count": 63,
   "id": "cc920340-6126-4755-9254-b2cb7f801f81",
   "metadata": {},
   "outputs": [
    {
     "data": {
      "image/png": "[encoded data removed]",
      "text/plain": [
       "<Figure size 800x500 with 1 Axes>"
      ]
     },
     "metadata": {},
     "output_type": "display_data"
    }
   ],
   "source": [
    "import matplotlib.pyplot as plt\n",
    "\n",
    "# Metrics\n",
    "models = ['Logistic Regression', 'Random Forest', 'KNN']\n",
    "accuracy = [0.7262, 0.7738, 0.5238]\n",
    "macro_f1 = [0.5621, 0.5381, 0.4434]\n",
    "\n",
    "# Plot\n",
    "x = range(len(models))\n",
    "plt.figure(figsize=(8, 5))\n",
    "plt.bar(x, accuracy, width=0.4, label='Accuracy', align='center')\n",
    "plt.bar([i + 0.4 for i in x], macro_f1, width=0.4, label='Macro F1 Score', align='center')\n",
    "plt.xticks([i + 0.2 for i in x], models, rotation=15)\n",
    "plt.ylabel(\"Score\")\n",
    "plt.title(\"Model Performance Comparison\")\n",
    "plt.legend()\n",
    "plt.tight_layout()\n",
    "plt.show()\n"
   ]
  },
  {
   "cell_type": "markdown",
   "id": "328e7c34-6571-4899-8924-786a4d833ebd",
   "metadata": {},
   "source": [
    "**Based on the results from evaluating Logistic Regression, Random Forest, and KNN on the original (unbalanced) test data after applying SMOTE on training data:**\n",
    "\n",
    "- **Logistic Regression** showed the best **Macro F1 Score** (0.5621), indicating good balance across classes.\n",
    "- Although **Random Forest** had slightly higher accuracy (0.7738), it performed poorly on the minority class (label 1).\n",
    "- **KNN** underperformed overall with low accuracy and F1 scores.\n",
    "\n",
    " **Recommended Model**: Logistic Regression\n",
    "\n",
    " **Reason**:\n",
    "- Best overall F1 performance\n",
    "- More balanced predictions across classes\n",
    "- Less biased toward the majority class\n",
    "- Simpler and interpretable model\n"
   ]
  },
  {
   "cell_type": "markdown",
   "id": "6606cc06-4131-4eb7-a260-f2384b458c48",
   "metadata": {},
   "source": [
    "## 3. Final Prediction Using Best Model"
   ]
  },
  {
   "cell_type": "code",
   "execution_count": 66,
   "id": "6de6b7fb-fef9-4408-ade7-592a883ea6ac",
   "metadata": {},
   "outputs": [
    {
     "name": "stdout",
     "output_type": "stream",
     "text": [
      "Final Model Performance (Logistic Regression)\n",
      "Accuracy: 0.7024\n",
      "Macro F1 Score: 0.5449\n",
      "\n",
      "Classification Report:\n",
      "               precision    recall  f1-score   support\n",
      "\n",
      "           0       0.84      0.77      0.80        47\n",
      "           1       0.09      0.20      0.12         5\n",
      "           2       0.73      0.69      0.71        32\n",
      "\n",
      "    accuracy                           0.70        84\n",
      "   macro avg       0.55      0.55      0.54        84\n",
      "weighted avg       0.75      0.70      0.73        84\n",
      "\n",
      "\n",
      "Confusion Matrix:\n",
      " [[36  4  7]\n",
      " [ 3  1  1]\n",
      " [ 4  6 22]]\n"
     ]
    }
   ],
   "source": [
    "from sklearn.metrics import confusion_matrix\n",
    "\n",
    "# Train best model (Logistic Regression) on balanced data\n",
    "best_model = LogisticRegression(C=0.1, penalty='l2', solver='lbfgs', max_iter=1000, random_state=42)\n",
    "best_model.fit(X_train_bal, y_train_bal)\n",
    "\n",
    "# Predict on original test data\n",
    "y_pred_final = best_model.predict(X_test_encoded)\n",
    "\n",
    "# Evaluate performance\n",
    "acc_final = accuracy_score(y_test_encoded, y_pred_final)\n",
    "f1_final = f1_score(y_test_encoded, y_pred_final, average='macro')\n",
    "print(\"Final Model Performance (Logistic Regression)\")\n",
    "print(\"Accuracy:\", round(acc_final, 4))\n",
    "print(\"Macro F1 Score:\", round(f1_final, 4))\n",
    "print(\"\\nClassification Report:\\n\", classification_report(y_test_encoded, y_pred_final))\n",
    "print(\"\\nConfusion Matrix:\\n\", confusion_matrix(y_test_encoded, y_pred_final))"
   ]
  },
  {
   "cell_type": "markdown",
   "id": "505da93e-7a18-45db-8405-ce7384077708",
   "metadata": {},
   "source": [
    "**The Logistic Regression model, selected based on its relatively consistent performance across classes, was retrained on the balanced training dataset created using SMOTE.**\n",
    "\n",
    "*It was then evaluated on the original, unbalanced test dataset. The model achieved the following results:*\n",
    "\n",
    "- **Accuracy:** 0.7024  \n",
    "- **Macro F1 Score:** 0.5449\n",
    "\n",
    "*Although the model performs well for the majority class (class 0) and reasonably for class 2, it still struggles with the minority class (class 1), which had very few samples. This indicates that class imbalance continues to affect performance despite SMOTE, especially when test data remains imbalanced.*\n",
    "\n",
    "**The confusion matrix also reflects this imbalance**\n",
    "\n",
    "*Overall, the model generalizes well but could benefit from additional data or different techniques for further boosting minority class performance.*"
   ]
  },
  {
   "cell_type": "markdown",
   "id": "3250f0e2-2075-413d-bb6d-ca1a333e3f90",
   "metadata": {},
   "source": [
    "## 4. Feature Importance Analysis"
   ]
  },
  {
   "cell_type": "markdown",
   "id": "cbc6124f-51f8-457e-b093-44f87e6e4881",
   "metadata": {},
   "source": [
    "### Model-Based Feature Importance (Decision Tree and Random Forest)"
   ]
  },
  {
   "cell_type": "markdown",
   "id": "ec6b4f56-917b-4ad4-b427-4184c4f10efc",
   "metadata": {},
   "source": [
    "**Random Forest Feature Importance**"
   ]
  },
  {
   "cell_type": "code",
   "execution_count": 71,
   "id": "85640b6a-1165-453f-8de9-9b4c83f22726",
   "metadata": {},
   "outputs": [
    {
     "name": "stdout",
     "output_type": "stream",
     "text": [
      "Random Forest Feature Importances:\n",
      "      Feature  Importance\n",
      "       N_Days    0.166585\n",
      "    Bilirubin    0.135640\n",
      "           ID    0.111866\n",
      "  Prothrombin    0.090834\n",
      "          Age    0.074588\n",
      "       Copper    0.059206\n",
      "      Albumin    0.058541\n",
      "         SGOT    0.050282\n",
      "    Platelets    0.050071\n",
      "     Alk_Phos    0.044980\n",
      "  Cholesterol    0.034327\n",
      "Tryglicerides    0.033882\n",
      "        Stage    0.029622\n",
      "        Edema    0.022295\n",
      " Hepatomegaly    0.013096\n",
      "         Drug    0.007240\n",
      "          Sex    0.005909\n",
      "      Spiders    0.005731\n",
      "      Ascites    0.005306\n"
     ]
    },
    {
     "data": {
      "image/png": "[encoded data removed]",
      "text/plain": [
       "<Figure size 1000x500 with 1 Axes>"
      ]
     },
     "metadata": {},
     "output_type": "display_data"
    }
   ],
   "source": [
    "from sklearn.ensemble import RandomForestClassifier\n",
    "\n",
    "# Train the model\n",
    "rf_model = RandomForestClassifier(random_state=42)\n",
    "rf_model.fit(X_train_encoded, y_train_encoded)\n",
    "\n",
    "# Extract feature importances and feature names\n",
    "rf_importances = rf_model.feature_importances_\n",
    "rf_features = X_train_encoded.columns\n",
    "\n",
    "# Create a DataFrame for easy sorting\n",
    "rf_feat_imp_df = pd.DataFrame({\n",
    "    'Feature': rf_features,\n",
    "    'Importance': rf_importances\n",
    "}).sort_values(by='Importance', ascending=False)\n",
    "\n",
    "# Print top features\n",
    "print(\"Random Forest Feature Importances:\")\n",
    "print(rf_feat_imp_df.to_string(index=False))\n",
    "\n",
    "# Plot sorted feature importances\n",
    "plt.figure(figsize=(10, 5))\n",
    "plt.bar(rf_feat_imp_df['Feature'], rf_feat_imp_df['Importance'])\n",
    "plt.xticks(rotation=90)\n",
    "plt.title(\" Feature Importances (Random Forest)\")\n",
    "plt.tight_layout()\n",
    "plt.show()\n",
    "\n"
   ]
  },
  {
   "cell_type": "markdown",
   "id": "8df0f6f5-4aef-4aa2-a77f-535a5613b097",
   "metadata": {},
   "source": [
    "**Decision Tree Feature Importance**"
   ]
  },
  {
   "cell_type": "code",
   "execution_count": 73,
   "id": "25b72794-d754-4a04-ba7d-8be6d87e65f2",
   "metadata": {},
   "outputs": [
    {
     "name": "stdout",
     "output_type": "stream",
     "text": [
      "Decision Tree Feature Importances:\n",
      "      Feature  Importance\n",
      "       N_Days    0.340927\n",
      "           ID    0.144795\n",
      "    Bilirubin    0.122564\n",
      "          Age    0.118411\n",
      "  Prothrombin    0.051110\n",
      "    Platelets    0.034190\n",
      "         SGOT    0.031422\n",
      "Tryglicerides    0.031198\n",
      "       Copper    0.030601\n",
      "  Cholesterol    0.030192\n",
      "     Alk_Phos    0.021790\n",
      "      Albumin    0.020640\n",
      "        Edema    0.014773\n",
      "      Spiders    0.007387\n",
      "          Sex    0.000000\n",
      "      Ascites    0.000000\n",
      " Hepatomegaly    0.000000\n",
      "         Drug    0.000000\n",
      "        Stage    0.000000\n"
     ]
    },
    {
     "data": {
      "image/png": "[encoded data removed]",
      "text/plain": [
       "<Figure size 1000x500 with 1 Axes>"
      ]
     },
     "metadata": {},
     "output_type": "display_data"
    }
   ],
   "source": [
    "from sklearn.tree import DecisionTreeClassifier\n",
    "\n",
    "# Train the model\n",
    "model = DecisionTreeClassifier(random_state=42)\n",
    "model.fit(X_train_encoded, y_train_encoded)\n",
    "\n",
    "# Extract feature importances and feature names\n",
    "importances = model.feature_importances_\n",
    "features = X_train_encoded.columns\n",
    "\n",
    "# Create a DataFrame for easy sorting\n",
    "feat_imp_df = pd.DataFrame({\n",
    "    'Feature': features,\n",
    "    'Importance': importances\n",
    "}).sort_values(by='Importance', ascending=False)\n",
    "\n",
    "# Print top features\n",
    "print(\"Decision Tree Feature Importances:\")\n",
    "print(feat_imp_df.to_string(index=False))\n",
    "\n",
    "# Plot sorted feature importances\n",
    "plt.figure(figsize=(10, 5))\n",
    "plt.bar(feat_imp_df['Feature'], feat_imp_df['Importance'])\n",
    "plt.xticks(rotation=90)\n",
    "plt.title(\"Feature Importances (Decision Tree)\")\n",
    "plt.tight_layout()\n",
    "plt.show()\n"
   ]
  },
  {
   "cell_type": "markdown",
   "id": "22967325-063a-417b-a4c3-3d1c83d1977b",
   "metadata": {},
   "source": [
    "**In this section, we analyze which features play the most significant role in predicting the target variable **“Status”** (patient survival outcome). Understanding feature importance helps:**\n",
    "\n",
    "- Identify the clinical factors most associated with patient outcomes.\n",
    "- Provide interpretability to our machine learning models.\n",
    "- Guide domain experts (e.g., doctors) on key predictors influencing survival.\n",
    "\n",
    "We used two different model-based approaches to compute feature importances:\n",
    "\n",
    "---\n",
    "\n",
    "#### a) Decision Tree Feature Importances\n",
    "\n",
    "A **Decision Tree Classifier** was trained on the dataset. Decision Trees rank feature importance based on how frequently and effectively a feature is used to split the data.\n",
    "\n",
    "Key characteristics of this method:\n",
    "- Simple and interpretable.\n",
    "- May ignore features not used in top splits (prone to overfitting).\n",
    "  \n",
    "Top Features:\n",
    "- `N_Days` (Days since diagnosis)\n",
    "- `ID` (may act as proxy for individual variation)\n",
    "- `Bilirubin`, `Age`\n",
    "\n",
    "Some features like `Sex`, `Ascites`, `Hepatomegaly`, and `Stage` were not used at all (importance = 0), suggesting limited usefulness in this single-tree model.\n",
    "\n",
    "---\n",
    "\n",
    "#### b) Random Forest Feature Importances\n",
    "\n",
    "A **Random Forest Classifier** (an ensemble of Decision Trees) was also used to calculate feature importances. This method:\n",
    "- Averages importance across many trees to reduce variance.\n",
    "- Captures more generalizable patterns and interactions.\n",
    "\n",
    "Top Features:\n",
    "- `N_Days`\n",
    "- `Bilirubin`\n",
    "- `ID`\n",
    "- `Prothrombin`\n",
    "- `Age`\n",
    "\n",
    "Most features had non-zero importance, indicating Random Forest evaluates a more balanced contribution from multiple features.\n",
    "\n",
    "---\n",
    "\n",
    "### Why Two Methods?\n",
    "\n",
    "Using both **Decision Tree** and **Random Forest** allows us to:\n",
    "- Compare simple vs. ensemble-based interpretation of features.\n",
    "- Cross-validate which features are consistently important.\n",
    "- Increase reliability of insights drawn from the models.\n",
    "\n",
    "---\n",
    "\n",
    "### Key Observations\n",
    "\n",
    "- Both methods agree on the high importance of **N_Days**, **Bilirubin**, and **Age**, confirming their strong clinical relevance.\n",
    "- Random Forest provides a broader view by assigning some weight to almost all features.\n",
    "- Decision Tree simplifies interpretation but may overlook weaker signals.\n",
    "\n",
    "These findings help validate that **early diagnosis (N_Days)** and **liver-related biomarkers (Bilirubin, Prothrombin, etc.)** are critical for predicting patient status.\n"
   ]
  },
  {
   "cell_type": "markdown",
   "id": "71bf825d-34bb-42f2-80d1-a17c2f230acc",
   "metadata": {},
   "source": [
    " ### Statistical Feature Importance (ANOVA & Chi-Square Tests)"
   ]
  },
  {
   "cell_type": "markdown",
   "id": "8b719080-4d65-4d2f-a3da-b0f13e105610",
   "metadata": {},
   "source": [
    "#### ANOVA F-Test for Numerical Features"
   ]
  },
  {
   "cell_type": "code",
   "execution_count": 77,
   "id": "a278043e-731f-465f-8967-d103ccbae275",
   "metadata": {},
   "outputs": [
    {
     "data": {
      "text/html": [
       "<div>\n",
       "<style scoped>\n",
       "    .dataframe tbody tr th:only-of-type {\n",
       "        vertical-align: middle;\n",
       "    }\n",
       "\n",
       "    .dataframe tbody tr th {\n",
       "        vertical-align: top;\n",
       "    }\n",
       "\n",
       "    .dataframe thead th {\n",
       "        text-align: right;\n",
       "    }\n",
       "</style>\n",
       "<table border=\"1\" class=\"dataframe\">\n",
       "  <thead>\n",
       "    <tr style=\"text-align: right;\">\n",
       "      <th></th>\n",
       "      <th>Feature</th>\n",
       "      <th>F-Score</th>\n",
       "      <th>p-value</th>\n",
       "    </tr>\n",
       "  </thead>\n",
       "  <tbody>\n",
       "    <tr>\n",
       "      <th>3</th>\n",
       "      <td>Bilirubin</td>\n",
       "      <td>37.105517</td>\n",
       "      <td>2.885917e-15</td>\n",
       "    </tr>\n",
       "    <tr>\n",
       "      <th>1</th>\n",
       "      <td>N_Days</td>\n",
       "      <td>33.596387</td>\n",
       "      <td>5.200913e-14</td>\n",
       "    </tr>\n",
       "    <tr>\n",
       "      <th>11</th>\n",
       "      <td>Prothrombin</td>\n",
       "      <td>23.283270</td>\n",
       "      <td>3.460259e-10</td>\n",
       "    </tr>\n",
       "    <tr>\n",
       "      <th>12</th>\n",
       "      <td>Stage</td>\n",
       "      <td>22.136207</td>\n",
       "      <td>9.487766e-10</td>\n",
       "    </tr>\n",
       "    <tr>\n",
       "      <th>6</th>\n",
       "      <td>Copper</td>\n",
       "      <td>20.146504</td>\n",
       "      <td>5.538693e-09</td>\n",
       "    </tr>\n",
       "    <tr>\n",
       "      <th>0</th>\n",
       "      <td>ID</td>\n",
       "      <td>19.239151</td>\n",
       "      <td>1.246130e-08</td>\n",
       "    </tr>\n",
       "    <tr>\n",
       "      <th>2</th>\n",
       "      <td>Age</td>\n",
       "      <td>16.664857</td>\n",
       "      <td>1.271094e-07</td>\n",
       "    </tr>\n",
       "    <tr>\n",
       "      <th>5</th>\n",
       "      <td>Albumin</td>\n",
       "      <td>13.922685</td>\n",
       "      <td>1.564469e-06</td>\n",
       "    </tr>\n",
       "    <tr>\n",
       "      <th>8</th>\n",
       "      <td>SGOT</td>\n",
       "      <td>11.406660</td>\n",
       "      <td>1.619595e-05</td>\n",
       "    </tr>\n",
       "    <tr>\n",
       "      <th>7</th>\n",
       "      <td>Alk_Phos</td>\n",
       "      <td>7.135551</td>\n",
       "      <td>9.247299e-04</td>\n",
       "    </tr>\n",
       "    <tr>\n",
       "      <th>9</th>\n",
       "      <td>Tryglicerides</td>\n",
       "      <td>4.573062</td>\n",
       "      <td>1.098723e-02</td>\n",
       "    </tr>\n",
       "    <tr>\n",
       "      <th>4</th>\n",
       "      <td>Cholesterol</td>\n",
       "      <td>4.043075</td>\n",
       "      <td>1.841703e-02</td>\n",
       "    </tr>\n",
       "    <tr>\n",
       "      <th>10</th>\n",
       "      <td>Platelets</td>\n",
       "      <td>3.953015</td>\n",
       "      <td>2.010989e-02</td>\n",
       "    </tr>\n",
       "  </tbody>\n",
       "</table>\n",
       "</div>"
      ],
      "text/plain": [
       "          Feature    F-Score       p-value\n",
       "3       Bilirubin  37.105517  2.885917e-15\n",
       "1          N_Days  33.596387  5.200913e-14\n",
       "11    Prothrombin  23.283270  3.460259e-10\n",
       "12          Stage  22.136207  9.487766e-10\n",
       "6          Copper  20.146504  5.538693e-09\n",
       "0              ID  19.239151  1.246130e-08\n",
       "2             Age  16.664857  1.271094e-07\n",
       "5         Albumin  13.922685  1.564469e-06\n",
       "8            SGOT  11.406660  1.619595e-05\n",
       "7        Alk_Phos   7.135551  9.247299e-04\n",
       "9   Tryglicerides   4.573062  1.098723e-02\n",
       "4     Cholesterol   4.043075  1.841703e-02\n",
       "10      Platelets   3.953015  2.010989e-02"
      ]
     },
     "metadata": {},
     "output_type": "display_data"
    }
   ],
   "source": [
    "from sklearn.feature_selection import f_classif\n",
    "\n",
    "# Select numerical features only\n",
    "numerical_features = X_train.select_dtypes(include=['int64', 'float64']).columns.tolist()\n",
    "\n",
    "# Run ANOVA F-test\n",
    "f_values, p_values = f_classif(X_train[numerical_features], y_train)\n",
    "\n",
    "# Create DataFrame to show F-scores and p-values\n",
    "anova_df = pd.DataFrame({\n",
    "    'Feature': numerical_features,\n",
    "    'F-Score': f_values,\n",
    "    'p-value': p_values\n",
    "})\n",
    "\n",
    "# Sort by significance\n",
    "anova_df_sorted = anova_df.sort_values(by='F-Score', ascending=False)\n",
    "display(anova_df_sorted)"
   ]
  },
  {
   "cell_type": "markdown",
   "id": "567442e6-e9f5-4015-aba0-f0d9bd7ed22d",
   "metadata": {},
   "source": [
    "We applied ANOVA to compare the means of numerical features across Status classes. Features with high F-scores and low p-values are more discriminative.\n",
    "\n",
    "Top Significant Features:\n",
    "\n",
    "Bilirubin (F = 37.11, p ≈ 2.89e-15)\n",
    "\n",
    "N_Days, Prothrombin, Stage, Copper, Age – all p < 0.001\n",
    "\n",
    "These results confirm that liver function markers and time since diagnosis are key predictors."
   ]
  },
  {
   "cell_type": "markdown",
   "id": "6ed94311-a68a-4b12-9b64-0d9750890850",
   "metadata": {},
   "source": [
    "### Chi-Square Test for Categorical Features"
   ]
  },
  {
   "cell_type": "code",
   "execution_count": 80,
   "id": "95450a98-ff1f-473a-88ba-ececf799afdf",
   "metadata": {},
   "outputs": [
    {
     "data": {
      "text/html": [
       "<div>\n",
       "<style scoped>\n",
       "    .dataframe tbody tr th:only-of-type {\n",
       "        vertical-align: middle;\n",
       "    }\n",
       "\n",
       "    .dataframe tbody tr th {\n",
       "        vertical-align: top;\n",
       "    }\n",
       "\n",
       "    .dataframe thead th {\n",
       "        text-align: right;\n",
       "    }\n",
       "</style>\n",
       "<table border=\"1\" class=\"dataframe\">\n",
       "  <thead>\n",
       "    <tr style=\"text-align: right;\">\n",
       "      <th></th>\n",
       "      <th>Feature</th>\n",
       "      <th>Chi2 Score</th>\n",
       "      <th>p-value</th>\n",
       "    </tr>\n",
       "  </thead>\n",
       "  <tbody>\n",
       "    <tr>\n",
       "      <th>5</th>\n",
       "      <td>Edema</td>\n",
       "      <td>29.712410</td>\n",
       "      <td>3.532093e-07</td>\n",
       "    </tr>\n",
       "    <tr>\n",
       "      <th>2</th>\n",
       "      <td>Ascites</td>\n",
       "      <td>26.824379</td>\n",
       "      <td>1.496788e-06</td>\n",
       "    </tr>\n",
       "    <tr>\n",
       "      <th>4</th>\n",
       "      <td>Spiders</td>\n",
       "      <td>15.630173</td>\n",
       "      <td>4.035998e-04</td>\n",
       "    </tr>\n",
       "    <tr>\n",
       "      <th>3</th>\n",
       "      <td>Hepatomegaly</td>\n",
       "      <td>10.523522</td>\n",
       "      <td>5.186163e-03</td>\n",
       "    </tr>\n",
       "    <tr>\n",
       "      <th>1</th>\n",
       "      <td>Sex</td>\n",
       "      <td>1.996320</td>\n",
       "      <td>3.685570e-01</td>\n",
       "    </tr>\n",
       "    <tr>\n",
       "      <th>0</th>\n",
       "      <td>Drug</td>\n",
       "      <td>0.013309</td>\n",
       "      <td>9.933676e-01</td>\n",
       "    </tr>\n",
       "  </tbody>\n",
       "</table>\n",
       "</div>"
      ],
      "text/plain": [
       "        Feature  Chi2 Score       p-value\n",
       "5         Edema   29.712410  3.532093e-07\n",
       "2       Ascites   26.824379  1.496788e-06\n",
       "4       Spiders   15.630173  4.035998e-04\n",
       "3  Hepatomegaly   10.523522  5.186163e-03\n",
       "1           Sex    1.996320  3.685570e-01\n",
       "0          Drug    0.013309  9.933676e-01"
      ]
     },
     "metadata": {},
     "output_type": "display_data"
    }
   ],
   "source": [
    "from sklearn.feature_selection import chi2\n",
    "from sklearn.preprocessing import MinMaxScaler\n",
    "\n",
    "# Select categorical features (ensure they're encoded as numbers)\n",
    "categorical_features = X_train.select_dtypes(include=['object', 'category']).columns.tolist()\n",
    "\n",
    "# Encode categorical variables (if not already)\n",
    "X_cat_encoded = X_train[categorical_features].apply(LabelEncoder().fit_transform)\n",
    "\n",
    "# Chi-square test requires non-negative values\n",
    "# So we apply MinMax scaling (though LabelEncoder typically ensures this)\n",
    "scaler = MinMaxScaler()\n",
    "X_cat_scaled = pd.DataFrame(scaler.fit_transform(X_cat_encoded), columns=categorical_features)\n",
    "\n",
    "# Perform Chi-square test\n",
    "chi2_scores, chi2_p = chi2(X_cat_scaled, y_train)\n",
    "\n",
    "# Create DataFrame for results\n",
    "chi2_df = pd.DataFrame({\n",
    "    'Feature': categorical_features,\n",
    "    'Chi2 Score': chi2_scores,\n",
    "    'p-value': chi2_p\n",
    "})\n",
    "\n",
    "# Sort by Chi2 Score\n",
    "chi2_df_sorted = chi2_df.sort_values(by='Chi2 Score', ascending=False)\n",
    "display(chi2_df_sorted)"
   ]
  },
  {
   "cell_type": "markdown",
   "id": "f2130874-bc54-4de9-aa43-9ff58d78feaf",
   "metadata": {},
   "source": [
    "Chi-square test was used for categorical features to check dependence on the target.\n",
    "\n",
    "Top Significant Features:\n",
    "\n",
    "Edema (Chi² = 29.71, p ≈ 3.5e-07)\n",
    "\n",
    "Ascites, Spiders, Hepatomegaly – also significant\n",
    "\n",
    "Not Significant: Sex and Drug (p > 0.3)"
   ]
  },
  {
   "cell_type": "markdown",
   "id": "b52edded-ce71-4f8e-a5b3-f5a8beb8698f",
   "metadata": {},
   "source": [
    "## END"
   ]
  }
 ],
 "metadata": {
  "kernelspec": {
   "display_name": "Python 3 (ipykernel)",
   "language": "python",
   "name": "python3"
  },
  "language_info": {
   "codemirror_mode": {
    "name": "ipython",
    "version": 3
   },
   "file_extension": ".py",
   "mimetype": "text/x-python",
   "name": "python",
   "nbconvert_exporter": "python",
   "pygments_lexer": "ipython3",
   "version": "3.11.5"
  }
 },
 "nbformat": 4,
 "nbformat_minor": 5
}
